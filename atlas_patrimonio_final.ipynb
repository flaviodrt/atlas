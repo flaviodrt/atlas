{
 "cells": [
  {
   "cell_type": "code",
   "execution_count": 1,
   "metadata": {
    "collapsed": true,
    "deletable": true,
    "editable": true
   },
   "outputs": [],
   "source": [
    "import pandas as pd\n",
    "import numpy as np\n",
    "import matplotlib\n",
    "%matplotlib inline"
   ]
  },
  {
   "cell_type": "code",
   "execution_count": 8,
   "metadata": {
    "collapsed": false,
    "deletable": true,
    "editable": true
   },
   "outputs": [],
   "source": [
    "df = pd.read_csv('/Users/guilhermefelitti/Downloads/bem_candidato_2016/bem_candidato_2016_SP.txt',\n",
    "                sep=';',\n",
    "    encoding='ISO-8859-1', \n",
    "    decimal=\".\",\n",
    "    thousands=\",\",\n",
    "    names=[\"DATA_GERACAO\", 'HORA_GERACAO', 'ANO_ELEICAO', \n",
    "           'DESCRICAO_ELEICAO', 'UF', 'SQ_CAND', 'CD_TIPO_BEM', 'DS_TIPO_BEM', \n",
    "           'DETALHE_BEM', 'VALOR_BEM', 'DATA_ULTIMA_ATU', 'HORA_ULTIMA_ATU'],\n",
    "    usecols=['SQ_CAND', 'DS_TIPO_BEM', \n",
    "           'DETALHE_BEM', 'VALOR_BEM'],\n",
    "    index_col=False,\n",
    "    dtype={'VALOR_BEM': float})"
   ]
  },
  {
   "cell_type": "code",
   "execution_count": 7,
   "metadata": {
    "collapsed": false,
    "deletable": true,
    "editable": true
   },
   "outputs": [
    {
     "data": {
      "text/html": [
       "<div>\n",
       "<table border=\"1\" class=\"dataframe\">\n",
       "  <thead>\n",
       "    <tr style=\"text-align: right;\">\n",
       "      <th></th>\n",
       "      <th>SQ_CAND</th>\n",
       "      <th>DS_TIPO_BEM</th>\n",
       "      <th>DETALHE_BEM</th>\n",
       "      <th>VALOR_BEM</th>\n",
       "    </tr>\n",
       "  </thead>\n",
       "  <tbody>\n",
       "    <tr>\n",
       "      <th>0</th>\n",
       "      <td>250000004546</td>\n",
       "      <td>Casa</td>\n",
       "      <td>CASA DE MORADA</td>\n",
       "      <td>250000.00</td>\n",
       "    </tr>\n",
       "    <tr>\n",
       "      <th>1</th>\n",
       "      <td>250000004546</td>\n",
       "      <td>Outros bens móveis</td>\n",
       "      <td>CAMINHONETE MARCA CHEVROLET MODELO S-10 4X4 AN...</td>\n",
       "      <td>95000.00</td>\n",
       "    </tr>\n",
       "    <tr>\n",
       "      <th>2</th>\n",
       "      <td>250000004546</td>\n",
       "      <td>Outros bens imóveis</td>\n",
       "      <td>PROPRIEDADE AGRÍCOLA DENOMINADA SITIO SÔ CÂNDI...</td>\n",
       "      <td>350000.00</td>\n",
       "    </tr>\n",
       "    <tr>\n",
       "      <th>3</th>\n",
       "      <td>250000004547</td>\n",
       "      <td>Casa</td>\n",
       "      <td>CASA DE MORADA</td>\n",
       "      <td>224777.20</td>\n",
       "    </tr>\n",
       "    <tr>\n",
       "      <th>4</th>\n",
       "      <td>250000004547</td>\n",
       "      <td>Outros bens móveis</td>\n",
       "      <td>VEICULO MARCA VW MODELO CROSSFOX ANO 2010/2011</td>\n",
       "      <td>51000.00</td>\n",
       "    </tr>\n",
       "    <tr>\n",
       "      <th>5</th>\n",
       "      <td>250000004548</td>\n",
       "      <td>Casa</td>\n",
       "      <td>IMOVEL RESIDENCIAL</td>\n",
       "      <td>23500.00</td>\n",
       "    </tr>\n",
       "    <tr>\n",
       "      <th>6</th>\n",
       "      <td>250000004548</td>\n",
       "      <td>Linha telefônica</td>\n",
       "      <td>LINHA TELEFONICA ADQUIRIDA</td>\n",
       "      <td>3428.88</td>\n",
       "    </tr>\n",
       "    <tr>\n",
       "      <th>7</th>\n",
       "      <td>250000004548</td>\n",
       "      <td>Quotas ou quinhões de capital</td>\n",
       "      <td>COTA DE EMPRESA JRB MONTAGENS</td>\n",
       "      <td>57000.00</td>\n",
       "    </tr>\n",
       "    <tr>\n",
       "      <th>8</th>\n",
       "      <td>250000004548</td>\n",
       "      <td>Quotas ou quinhões de capital</td>\n",
       "      <td>COOPERATIVA RURAL COONAI, ATLTERADO PARA CREDI...</td>\n",
       "      <td>525.68</td>\n",
       "    </tr>\n",
       "    <tr>\n",
       "      <th>9</th>\n",
       "      <td>250000004548</td>\n",
       "      <td>Depósito bancário em conta corrente no País</td>\n",
       "      <td>COOPERATIVA DE CREDITO CREDICOONAI</td>\n",
       "      <td>1378.88</td>\n",
       "    </tr>\n",
       "  </tbody>\n",
       "</table>\n",
       "</div>"
      ],
      "text/plain": [
       "        SQ_CAND                                  DS_TIPO_BEM  \\\n",
       "0  250000004546                                         Casa   \n",
       "1  250000004546                           Outros bens móveis   \n",
       "2  250000004546                          Outros bens imóveis   \n",
       "3  250000004547                                         Casa   \n",
       "4  250000004547                           Outros bens móveis   \n",
       "5  250000004548                                         Casa   \n",
       "6  250000004548                             Linha telefônica   \n",
       "7  250000004548                Quotas ou quinhões de capital   \n",
       "8  250000004548                Quotas ou quinhões de capital   \n",
       "9  250000004548  Depósito bancário em conta corrente no País   \n",
       "\n",
       "                                         DETALHE_BEM  VALOR_BEM  \n",
       "0                                     CASA DE MORADA  250000.00  \n",
       "1  CAMINHONETE MARCA CHEVROLET MODELO S-10 4X4 AN...   95000.00  \n",
       "2  PROPRIEDADE AGRÍCOLA DENOMINADA SITIO SÔ CÂNDI...  350000.00  \n",
       "3                                     CASA DE MORADA  224777.20  \n",
       "4     VEICULO MARCA VW MODELO CROSSFOX ANO 2010/2011   51000.00  \n",
       "5                                 IMOVEL RESIDENCIAL   23500.00  \n",
       "6                         LINHA TELEFONICA ADQUIRIDA    3428.88  \n",
       "7                      COTA DE EMPRESA JRB MONTAGENS   57000.00  \n",
       "8  COOPERATIVA RURAL COONAI, ATLTERADO PARA CREDI...     525.68  \n",
       "9                 COOPERATIVA DE CREDITO CREDICOONAI    1378.88  "
      ]
     },
     "execution_count": 7,
     "metadata": {},
     "output_type": "execute_result"
    }
   ],
   "source": [
    "df.head(10)"
   ]
  },
  {
   "cell_type": "code",
   "execution_count": 10,
   "metadata": {
    "collapsed": true,
    "deletable": true,
    "editable": true
   },
   "outputs": [],
   "source": [
    "sq = [250000011022, 250000020852, 250000022100, 250000020813, 250000010992, 250000020825, 250000022074, 250000022081, 250000005006, 250000022076, 250000004987, 250000022098, 250000004981, 250000022086, 250000022120, 250000020837, 250000004982, 250000011622, 250000022111, 250000010999, 250000004989, 250000022073, 250000058381, 250000008365, 250000004984, 250000022137, 250000008347, 250000020779, 250000014868, 250000011624, 250000022124, 250000011011, 250000022075, 250000004997, 250000005003, 250000008293, 250000004992, 250000022084, 250000004986, 250000011018, 250000005798, 250000022114, 250000019126, 250000019125, 250000010863, 250000010847, 250000011027, 250000020854, 250000010842, 250000010991, 250000008366, 250000004979, 250000008375, 250000011016, 250000014885]"
   ]
  },
  {
   "cell_type": "code",
   "execution_count": 11,
   "metadata": {
    "collapsed": false,
    "deletable": true,
    "editable": true
   },
   "outputs": [],
   "source": [
    "patrimonio = df[df['SQ_CAND'].isin(sq)]"
   ]
  },
  {
   "cell_type": "code",
   "execution_count": 14,
   "metadata": {
    "collapsed": false,
    "deletable": true,
    "editable": true
   },
   "outputs": [
    {
     "data": {
      "text/html": [
       "<div>\n",
       "<table border=\"1\" class=\"dataframe\">\n",
       "  <thead>\n",
       "    <tr style=\"text-align: right;\">\n",
       "      <th></th>\n",
       "      <th>SQ_CAND</th>\n",
       "      <th>DS_TIPO_BEM</th>\n",
       "      <th>DETALHE_BEM</th>\n",
       "      <th>VALOR_BEM</th>\n",
       "    </tr>\n",
       "  </thead>\n",
       "  <tbody>\n",
       "    <tr>\n",
       "      <th>760</th>\n",
       "      <td>250000004979</td>\n",
       "      <td>Apartamento</td>\n",
       "      <td>AVENIDA APRIGIO BEZERRA DA SILVA, 1415 - APTO....</td>\n",
       "      <td>200000.0</td>\n",
       "    </tr>\n",
       "  </tbody>\n",
       "</table>\n",
       "</div>"
      ],
      "text/plain": [
       "          SQ_CAND  DS_TIPO_BEM  \\\n",
       "760  250000004979  Apartamento   \n",
       "\n",
       "                                           DETALHE_BEM  VALOR_BEM  \n",
       "760  AVENIDA APRIGIO BEZERRA DA SILVA, 1415 - APTO....   200000.0  "
      ]
     },
     "execution_count": 14,
     "metadata": {},
     "output_type": "execute_result"
    }
   ],
   "source": [
    "patrimonio.head(1)"
   ]
  },
  {
   "cell_type": "code",
   "execution_count": 17,
   "metadata": {
    "collapsed": true,
    "deletable": true,
    "editable": true
   },
   "outputs": [],
   "source": [
    "eleitos_dic = {'ADILSON AMADEU': 250000019125,\n",
    " 'ADRIANA RAMALHO': 250000004979,\n",
    " 'ALESSANDRO GUEDES': 250000022073,\n",
    " 'ALFREDINHO': 250000022074,\n",
    " 'ALINE CARDOSO': 250000004981,\n",
    " 'ANDRÉ SANTOS': 250000008293,\n",
    " 'ARSELINO TATTO': 250000022076,\n",
    " 'ATILIO FRANCISCO': 250000008347,\n",
    " 'AURÉLIO NOMURA': 250000004982,\n",
    " 'CAMILO CRISTÓFARO': 250000010991,\n",
    " 'CELSO JATENE': 250000022114,\n",
    " 'CLAUDINHO DE SOUZA': 250000004987,\n",
    " 'CLAUDIO FONSECA': 250000010847,\n",
    " 'CONTE LOPES': 250000011011,\n",
    " 'DANIEL ANNENBERG': 250000005003,\n",
    " 'DAVID SOARES': 250000011016,\n",
    " 'DONATO': 250000022075,\n",
    " 'DR. MILTON FERREIRA': 250000058381,\n",
    " 'EDIR SALES': 250000020825,\n",
    " 'EDUARDO SUPLICY': 250000022081,\n",
    " 'EDUARDO TUMA': 250000004992,\n",
    " 'ELISEU GABRIEL': 250000010992,\n",
    " 'FABIO RIVA': 250000004984,\n",
    " 'FERNANDO HOLIDAY': 250000011018,\n",
    " 'GEORGE HATO': 250000020779,\n",
    " 'GILBERTO NASCIMENTO JR': 250000008375,\n",
    " 'GILBERTO NATALINI': 250000011624,\n",
    " 'GILSON BARRETO': 250000005006,\n",
    " 'ISAC FELIX': 250000022120,\n",
    " 'JAIR TATTO': 250000022084,\n",
    " 'JANAINA LIMA': 250000005798,\n",
    " 'JOÃO JORGE': 250000004997,\n",
    " 'JULIANA CARDOSO': 250000022086,\n",
    " 'MARIO COVAS NETO': 250000004989,\n",
    " 'MILTON LEITE': 250000011022,\n",
    " 'NOEMI NONATO': 250000022124,\n",
    " 'OTA': 250000010999,\n",
    " 'PATRICIA BEZERRA': 250000004986,\n",
    " 'PAULO FRANGE': 250000019126,\n",
    " 'POLICE NETO': 250000020837,\n",
    " 'REIS': 250000022098,\n",
    " 'RICARDO NUNES': 250000020813,\n",
    " 'RICARDO TEIXEIRA': 250000022137,\n",
    " 'RINALDI DIGILIO': 250000008366,\n",
    " 'RODRIGO GOULART': 250000020852,\n",
    " 'RUTE COSTA': 250000020854,\n",
    " 'SANDRA TADEU': 250000011027,\n",
    " 'SENIVAL MOURA': 250000022100,\n",
    " 'SONINHA': 250000010842,\n",
    " 'SOUZA SANTOS': 250000008365,\n",
    " 'SÂMIA BOMFIM': 250000014885,\n",
    " 'TONINHO PAIVA': 250000022111,\n",
    " 'TONINHO VESPOLI': 250000014868,\n",
    " 'TRIPOLI': 250000011622,\n",
    " 'ZÉ TURIN': 250000010863}"
   ]
  },
  {
   "cell_type": "code",
   "execution_count": 18,
   "metadata": {
    "collapsed": false,
    "deletable": true,
    "editable": true
   },
   "outputs": [],
   "source": [
    "eleitos_dic1 = {y:x for x,y in eleitos_dic.items()}"
   ]
  },
  {
   "cell_type": "code",
   "execution_count": 19,
   "metadata": {
    "collapsed": false,
    "deletable": true,
    "editable": true
   },
   "outputs": [
    {
     "name": "stderr",
     "output_type": "stream",
     "text": [
      "/Library/Frameworks/Python.framework/Versions/3.4/lib/python3.4/site-packages/ipykernel/__main__.py:1: SettingWithCopyWarning: \n",
      "A value is trying to be set on a copy of a slice from a DataFrame.\n",
      "Try using .loc[row_indexer,col_indexer] = value instead\n",
      "\n",
      "See the caveats in the documentation: http://pandas.pydata.org/pandas-docs/stable/indexing.html#indexing-view-versus-copy\n",
      "  if __name__ == '__main__':\n"
     ]
    }
   ],
   "source": [
    "patrimonio[\"NOME\"] = patrimonio[\"SQ_CAND\"].map(eleitos_dic1)"
   ]
  },
  {
   "cell_type": "code",
   "execution_count": 21,
   "metadata": {
    "collapsed": false,
    "deletable": true,
    "editable": true
   },
   "outputs": [
    {
     "data": {
      "text/html": [
       "<div>\n",
       "<table border=\"1\" class=\"dataframe\">\n",
       "  <thead>\n",
       "    <tr style=\"text-align: right;\">\n",
       "      <th></th>\n",
       "      <th>NOME</th>\n",
       "      <th>SQ_CAND</th>\n",
       "      <th>DS_TIPO_BEM</th>\n",
       "      <th>DETALHE_BEM</th>\n",
       "      <th>VALOR_BEM</th>\n",
       "    </tr>\n",
       "  </thead>\n",
       "  <tbody>\n",
       "    <tr>\n",
       "      <th>760</th>\n",
       "      <td>ADRIANA RAMALHO</td>\n",
       "      <td>250000004979</td>\n",
       "      <td>Apartamento</td>\n",
       "      <td>AVENIDA APRIGIO BEZERRA DA SILVA, 1415 - APTO....</td>\n",
       "      <td>200000.0</td>\n",
       "    </tr>\n",
       "  </tbody>\n",
       "</table>\n",
       "</div>"
      ],
      "text/plain": [
       "                NOME       SQ_CAND  DS_TIPO_BEM  \\\n",
       "760  ADRIANA RAMALHO  250000004979  Apartamento   \n",
       "\n",
       "                                           DETALHE_BEM  VALOR_BEM  \n",
       "760  AVENIDA APRIGIO BEZERRA DA SILVA, 1415 - APTO....   200000.0  "
      ]
     },
     "execution_count": 21,
     "metadata": {},
     "output_type": "execute_result"
    }
   ],
   "source": [
    "patrimonio=patrimonio[['NOME', 'SQ_CAND', 'DS_TIPO_BEM', \n",
    "           'DETALHE_BEM', 'VALOR_BEM']]"
   ]
  },
  {
   "cell_type": "code",
   "execution_count": 25,
   "metadata": {
    "collapsed": true,
    "deletable": true,
    "editable": true
   },
   "outputs": [],
   "source": [
    "patrimonio = patrimonio.rename(columns={\n",
    "    'NOME': 'candidate',\n",
    "    'Sequencial Candidato': 'candidate_id', \n",
    "    'DS_TIPO_BEM': 'kind_property', \n",
    "    'DETALHE_BEM': 'details_property',\n",
    "    'VALOR_BEM': 'value_property', \n",
    "})"
   ]
  },
  {
   "cell_type": "code",
   "execution_count": null,
   "metadata": {
    "collapsed": true
   },
   "outputs": [],
   "source": [
    "patrimonio.to_csv(\"../data/property.csv\")"
   ]
  }
 ],
 "metadata": {
  "kernelspec": {
   "display_name": "Python 3",
   "language": "python",
   "name": "python3"
  },
  "language_info": {
   "codemirror_mode": {
    "name": "ipython",
    "version": 3
   },
   "file_extension": ".py",
   "mimetype": "text/x-python",
   "name": "python",
   "nbconvert_exporter": "python",
   "pygments_lexer": "ipython3",
   "version": "3.4.2"
  }
 },
 "nbformat": 4,
 "nbformat_minor": 2
}
