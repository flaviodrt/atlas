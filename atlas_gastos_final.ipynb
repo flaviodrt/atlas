{
 "cells": [
  {
   "cell_type": "code",
   "execution_count": 41,
   "metadata": {
    "collapsed": true,
    "deletable": true,
    "editable": true
   },
   "outputs": [],
   "source": [
    "import requests"
   ]
  },
  {
   "cell_type": "code",
   "execution_count": 42,
   "metadata": {
    "collapsed": false,
    "deletable": true,
    "editable": true
   },
   "outputs": [],
   "source": [
    "from bs4 import BeautifulSoup\n",
    "import lxml"
   ]
  },
  {
   "cell_type": "code",
   "execution_count": 43,
   "metadata": {
    "collapsed": true,
    "deletable": true,
    "editable": true
   },
   "outputs": [],
   "source": [
    "import datetime, time"
   ]
  },
  {
   "cell_type": "code",
   "execution_count": 44,
   "metadata": {
    "collapsed": false,
    "deletable": true,
    "editable": true
   },
   "outputs": [],
   "source": [
    "import pandas as pd\n",
    "import numpy as np\n",
    "import matplotlib\n",
    "%matplotlib inline"
   ]
  },
  {
   "cell_type": "code",
   "execution_count": 45,
   "metadata": {
    "collapsed": false,
    "deletable": true,
    "editable": true
   },
   "outputs": [],
   "source": [
    "xmls = [] \n",
    "xmls.append('http://www2.camara.sp.gov.br/sisgv/Arquivos/201701.XML')"
   ]
  },
  {
   "cell_type": "code",
   "execution_count": 46,
   "metadata": {
    "collapsed": false,
    "deletable": true,
    "editable": true
   },
   "outputs": [],
   "source": [
    "lista_gastos=[]\n",
    "for link in xmls:\n",
    "    r = requests.get(link)\n",
    "    xml = BeautifulSoup(r.content, 'xml')\n",
    "    gastos = xml.find_all('TabelaPortalITEMREEMBOLSO')\n",
    "    for s in gastos:\n",
    "        chave = s.Chave.text\n",
    "        centro_custos = s.CENTROCUSTOSID.text\n",
    "        departamento = s.DEPARTAMENTO.text\n",
    "        tipodep = s.TIPODEDEPARTAMENTO\n",
    "        vereador = s.VEREADOR.text\n",
    "        ano = s.ANO.text\n",
    "        mes = s.MES.text\n",
    "        despesa = s.DESPESA.text\n",
    "        cnpj = s.CNPJ.text\n",
    "        fornecedor = s.FORNECEDOR.text\n",
    "        valor = s.VALOR.text\n",
    "        data = datetime.date(int(ano), int(mes), 1)\n",
    "\n",
    "        dict_gastos = {'DATA': data, 'Chave':chave, 'CENTROCUSTOSID': centro_custos, 'DEPARTAMENTO': departamento, \n",
    "                'TIPO_DEPARTAMENTO':tipodep, 'VEREADOR': vereador, 'DESPESA':despesa, 'CNPJ': cnpj, \n",
    "                       'FORNECEDOR': fornecedor, 'VALOR': valor}\n",
    "        lista_gastos.append(dict_gastos)"
   ]
  },
  {
   "cell_type": "code",
   "execution_count": 47,
   "metadata": {
    "collapsed": true,
    "deletable": true,
    "editable": true
   },
   "outputs": [],
   "source": [
    "df = pd.DataFrame().from_records(lista_gastos)"
   ]
  },
  {
   "cell_type": "code",
   "execution_count": 48,
   "metadata": {
    "collapsed": false,
    "deletable": true,
    "editable": true
   },
   "outputs": [],
   "source": [
    "df = df[['DATA', 'VEREADOR', 'DEPARTAMENTO', 'DESPESA', 'VALOR', 'FORNECEDOR','CNPJ',]]\n",
    "df[['DATA']] = df[['DATA']].apply(pd.to_datetime)\n",
    "df[['VALOR']] = df[['VALOR']].apply(pd.to_numeric)\n",
    "df = df.drop_duplicates()"
   ]
  },
  {
   "cell_type": "code",
   "execution_count": 34,
   "metadata": {
    "collapsed": false,
    "deletable": true,
    "editable": true
   },
   "outputs": [],
   "source": []
  },
  {
   "cell_type": "code",
   "execution_count": 49,
   "metadata": {
    "collapsed": true,
    "deletable": true,
    "editable": true
   },
   "outputs": [],
   "source": [
    "df = df.rename(columns={\n",
    "    'DATA': 'date', \n",
    "    'VEREADOR': 'candidate',\n",
    "    'DEPARTAMENTO': 'department', \n",
    "    'DESPESA': 'expense',\n",
    "    'VALOR': 'value', \n",
    "    'FORNECEDOR': 'provider', \n",
    "    'CNPJ': 'CNPJ',\n",
    "})"
   ]
  },
  {
   "cell_type": "code",
   "execution_count": null,
   "metadata": {
    "collapsed": true
   },
   "outputs": [],
   "source": [
    "df.to_csv(\"../data/expenses.csv\")"
   ]
  }
 ],
 "metadata": {
  "anaconda-cloud": {},
  "kernelspec": {
   "display_name": "Python 3",
   "language": "python",
   "name": "python3"
  },
  "language_info": {
   "codemirror_mode": {
    "name": "ipython",
    "version": 3
   },
   "file_extension": ".py",
   "mimetype": "text/x-python",
   "name": "python",
   "nbconvert_exporter": "python",
   "pygments_lexer": "ipython3",
   "version": "3.4.2"
  }
 },
 "nbformat": 4,
 "nbformat_minor": 0
}
