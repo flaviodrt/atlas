{
 "cells": [
  {
   "cell_type": "code",
   "execution_count": 6,
   "metadata": {
    "collapsed": true,
    "deletable": true,
    "editable": true
   },
   "outputs": [],
   "source": [
    "%matplotlib inline"
   ]
  },
  {
   "cell_type": "code",
   "execution_count": 7,
   "metadata": {
    "collapsed": true,
    "deletable": true,
    "editable": true
   },
   "outputs": [],
   "source": [
    "import datetime, time\n",
    "import lxml"
   ]
  },
  {
   "cell_type": "code",
   "execution_count": 8,
   "metadata": {
    "collapsed": true,
    "deletable": true,
    "editable": true
   },
   "outputs": [],
   "source": [
    "import pandas as pd\n",
    "import requests\n",
    "from bs4 import BeautifulSoup"
   ]
  },
  {
   "cell_type": "code",
   "execution_count": null,
   "metadata": {
    "collapsed": true,
    "deletable": true,
    "editable": true
   },
   "outputs": [],
   "source": []
  },
  {
   "cell_type": "code",
   "execution_count": 9,
   "metadata": {
    "collapsed": false,
    "deletable": true,
    "editable": true
   },
   "outputs": [],
   "source": [
    "seqs = pd.read_csv(\"../data/sequential_id.csv\")"
   ]
  },
  {
   "cell_type": "code",
   "execution_count": 10,
   "metadata": {
    "collapsed": false,
    "deletable": true,
    "editable": true
   },
   "outputs": [],
   "source": [
    "seqs['name'] = seqs.name.str.upper()\n",
    "seqs['name'] = seqs.name.replace('AURÉLIO NOMURA', 'AURELIO NOMURA')\n",
    "seqs['name'] = seqs.name.replace('CAIO MIRANDA CARNEIRO', 'CAIO MIRANDA')\n",
    "seqs['name'] = seqs.name.replace('ANTONIO DONATO', 'DONATO')\n",
    "seqs['name'] = seqs.name.replace('EDUARDO SUPLICY', 'EDUARDO MATARAZZO SUPLICY') \n",
    "seqs['name'] = seqs.name.replace('MARIO COVAS NETO', 'MÁRIO COVAS NETO')\n",
    "seqs['name'] = seqs.name.replace('REGINALDO TRIPOLI', 'REGINALDO TRÍPOLI')\n",
    "seqs['name'] = seqs.name.replace('ZÉ TURIN', 'ZÉ TURIM')"
   ]
  },
  {
   "cell_type": "code",
   "execution_count": null,
   "metadata": {
    "collapsed": true,
    "deletable": true,
    "editable": true
   },
   "outputs": [],
   "source": []
  },
  {
   "cell_type": "code",
   "execution_count": 11,
   "metadata": {
    "collapsed": false,
    "deletable": true,
    "editable": true
   },
   "outputs": [],
   "source": [
    "xmls = [] \n",
    "xmls.append('http://www2.camara.sp.gov.br/sisgv/Arquivos/201705.XML')"
   ]
  },
  {
   "cell_type": "code",
   "execution_count": 12,
   "metadata": {
    "collapsed": false,
    "deletable": true,
    "editable": true
   },
   "outputs": [],
   "source": [
    "lista_gastos=[]\n",
    "for link in xmls:\n",
    "    r = requests.get(link)\n",
    "    xml = BeautifulSoup(r.content, 'xml')\n",
    "    gastos = xml.find_all('TabelaPortalITEMREEMBOLSO')\n",
    "    for s in gastos:\n",
    "        chave = s.Chave.text\n",
    "        centro_custos = s.CENTROCUSTOSID.text\n",
    "        departamento = s.DEPARTAMENTO.text\n",
    "        tipodep = s.TIPODEDEPARTAMENTO\n",
    "        vereador = s.VEREADOR.text\n",
    "        ano = s.ANO.text\n",
    "        mes = s.MES.text\n",
    "        despesa = s.DESPESA.text\n",
    "        cnpj = s.CNPJ.text\n",
    "        fornecedor = s.FORNECEDOR.text\n",
    "        valor = s.VALOR.text\n",
    "        data = datetime.date(int(ano), int(mes), 1)\n",
    "\n",
    "        dict_gastos = {'DATA': data, 'Chave':chave, 'CENTROCUSTOSID': centro_custos, 'DEPARTAMENTO': departamento, \n",
    "                'TIPO_DEPARTAMENTO':tipodep, 'VEREADOR': vereador, 'DESPESA':despesa, 'CNPJ': cnpj, \n",
    "                       'FORNECEDOR': fornecedor, 'VALOR': valor}\n",
    "        lista_gastos.append(dict_gastos)"
   ]
  },
  {
   "cell_type": "code",
   "execution_count": null,
   "metadata": {
    "collapsed": true,
    "deletable": true,
    "editable": true
   },
   "outputs": [],
   "source": []
  },
  {
   "cell_type": "code",
   "execution_count": 13,
   "metadata": {
    "collapsed": true,
    "deletable": true,
    "editable": true
   },
   "outputs": [],
   "source": [
    "df = pd.DataFrame().from_records(lista_gastos)"
   ]
  },
  {
   "cell_type": "code",
   "execution_count": 14,
   "metadata": {
    "collapsed": false,
    "deletable": true,
    "editable": true
   },
   "outputs": [],
   "source": [
    "df = df[['DATA', 'VEREADOR', 'DEPARTAMENTO', 'DESPESA', 'VALOR', 'FORNECEDOR', 'CNPJ']]\n",
    "df[['DATA']] = df[['DATA']].apply(pd.to_datetime)\n",
    "df[['VALOR']] = df[['VALOR']].apply(pd.to_numeric)"
   ]
  },
  {
   "cell_type": "code",
   "execution_count": 15,
   "metadata": {
    "collapsed": false,
    "deletable": true,
    "editable": true
   },
   "outputs": [],
   "source": [
    "df = pd.merge(df, seqs, how='left', left_on='VEREADOR', right_on='name')"
   ]
  },
  {
   "cell_type": "code",
   "execution_count": 18,
   "metadata": {
    "collapsed": false,
    "deletable": true,
    "editable": true
   },
   "outputs": [],
   "source": [
    "df = df.drop(['VEREADOR', 'name'], axis=1)"
   ]
  },
  {
   "cell_type": "code",
   "execution_count": 20,
   "metadata": {
    "collapsed": false,
    "deletable": true,
    "editable": true
   },
   "outputs": [],
   "source": [
    "df = df[df.sequential_id.notnull()]"
   ]
  },
  {
   "cell_type": "code",
   "execution_count": 21,
   "metadata": {
    "collapsed": true,
    "deletable": true,
    "editable": true
   },
   "outputs": [],
   "source": [
    "df = df.rename(columns={\n",
    "    'DATA': 'date', \n",
    "    'VEREADOR': 'candidate',\n",
    "    'DEPARTAMENTO': 'department', \n",
    "    'DESPESA': 'expense',\n",
    "    'VALOR': 'value', \n",
    "    'FORNECEDOR': 'provider', \n",
    "    'CNPJ': 'cnpj',\n",
    "})"
   ]
  },
  {
   "cell_type": "code",
   "execution_count": 24,
   "metadata": {
    "collapsed": false,
    "deletable": true,
    "editable": true
   },
   "outputs": [
    {
     "data": {
      "text/html": [
       "<div>\n",
       "<table border=\"1\" class=\"dataframe\">\n",
       "  <thead>\n",
       "    <tr style=\"text-align: right;\">\n",
       "      <th></th>\n",
       "      <th>date</th>\n",
       "      <th>department</th>\n",
       "      <th>expense</th>\n",
       "      <th>value</th>\n",
       "      <th>provider</th>\n",
       "      <th>cnpj</th>\n",
       "      <th>sequential_id</th>\n",
       "    </tr>\n",
       "  </thead>\n",
       "  <tbody>\n",
       "    <tr>\n",
       "      <th>0</th>\n",
       "      <td>2017-01-01</td>\n",
       "      <td>GABINETE DE VEREADOR</td>\n",
       "      <td>COMBUSTIVEL</td>\n",
       "      <td>880.00</td>\n",
       "      <td>PROTOTIPO AUTO POSTO LTDA.</td>\n",
       "      <td>43.900.851/0001-01</td>\n",
       "      <td>2.500000e+11</td>\n",
       "    </tr>\n",
       "    <tr>\n",
       "      <th>1</th>\n",
       "      <td>2017-01-01</td>\n",
       "      <td>GABINETE DE VEREADOR</td>\n",
       "      <td>INTERMEDIADO - CORREIOS</td>\n",
       "      <td>5993.27</td>\n",
       "      <td>CAMARA MUNICIPAL DE SÃO PAULO</td>\n",
       "      <td>50.176.288/0001-28</td>\n",
       "      <td>2.500000e+11</td>\n",
       "    </tr>\n",
       "    <tr>\n",
       "      <th>2</th>\n",
       "      <td>2017-01-01</td>\n",
       "      <td>GABINETE DE VEREADOR</td>\n",
       "      <td>MATERIAL DE ESCRITORIO E OUTROS MATERIAIS DE C...</td>\n",
       "      <td>219.45</td>\n",
       "      <td>CENTER PAPEIS COMERCIAL LTDA.</td>\n",
       "      <td>06.226.820/0001-82</td>\n",
       "      <td>2.500000e+11</td>\n",
       "    </tr>\n",
       "    <tr>\n",
       "      <th>3</th>\n",
       "      <td>2017-01-01</td>\n",
       "      <td>GABINETE DE VEREADOR</td>\n",
       "      <td>TELEFONE MOVEL</td>\n",
       "      <td>266.10</td>\n",
       "      <td>TELEFONICA BRASIL S/A</td>\n",
       "      <td>02.558.157/0001-62</td>\n",
       "      <td>2.500000e+11</td>\n",
       "    </tr>\n",
       "    <tr>\n",
       "      <th>4</th>\n",
       "      <td>2017-02-01</td>\n",
       "      <td>GABINETE DE VEREADOR</td>\n",
       "      <td>COMBUSTIVEL</td>\n",
       "      <td>150.00</td>\n",
       "      <td>POSTO DE SERVIÇOS 23 DE MAIO LTDA.</td>\n",
       "      <td>18.811.994/0001-91</td>\n",
       "      <td>2.500000e+11</td>\n",
       "    </tr>\n",
       "  </tbody>\n",
       "</table>\n",
       "</div>"
      ],
      "text/plain": [
       "        date            department  \\\n",
       "0 2017-01-01  GABINETE DE VEREADOR   \n",
       "1 2017-01-01  GABINETE DE VEREADOR   \n",
       "2 2017-01-01  GABINETE DE VEREADOR   \n",
       "3 2017-01-01  GABINETE DE VEREADOR   \n",
       "4 2017-02-01  GABINETE DE VEREADOR   \n",
       "\n",
       "                                             expense    value  \\\n",
       "0                                        COMBUSTIVEL   880.00   \n",
       "1                            INTERMEDIADO - CORREIOS  5993.27   \n",
       "2  MATERIAL DE ESCRITORIO E OUTROS MATERIAIS DE C...   219.45   \n",
       "3                                     TELEFONE MOVEL   266.10   \n",
       "4                                        COMBUSTIVEL   150.00   \n",
       "\n",
       "                             provider                cnpj  sequential_id  \n",
       "0          PROTOTIPO AUTO POSTO LTDA.  43.900.851/0001-01   2.500000e+11  \n",
       "1       CAMARA MUNICIPAL DE SÃO PAULO  50.176.288/0001-28   2.500000e+11  \n",
       "2       CENTER PAPEIS COMERCIAL LTDA.  06.226.820/0001-82   2.500000e+11  \n",
       "3               TELEFONICA BRASIL S/A  02.558.157/0001-62   2.500000e+11  \n",
       "4  POSTO DE SERVIÇOS 23 DE MAIO LTDA.  18.811.994/0001-91   2.500000e+11  "
      ]
     },
     "execution_count": 24,
     "metadata": {},
     "output_type": "execute_result"
    }
   ],
   "source": [
    "df.head()"
   ]
  },
  {
   "cell_type": "code",
   "execution_count": 25,
   "metadata": {
    "collapsed": true,
    "deletable": true,
    "editable": true
   },
   "outputs": [],
   "source": [
    "today = datetime.date.today()\n",
    "df.to_csv(f\"../data/{today}-expenses.csv\", index=False)"
   ]
  },
  {
   "cell_type": "code",
   "execution_count": null,
   "metadata": {
    "collapsed": true,
    "deletable": true,
    "editable": true
   },
   "outputs": [],
   "source": []
  },
  {
   "cell_type": "code",
   "execution_count": null,
   "metadata": {
    "collapsed": true,
    "deletable": true,
    "editable": true
   },
   "outputs": [],
   "source": []
  }
 ],
 "metadata": {
  "anaconda-cloud": {},
  "kernelspec": {
   "display_name": "Python 3",
   "language": "python",
   "name": "python3"
  },
  "language_info": {
   "codemirror_mode": {
    "name": "ipython",
    "version": 3
   },
   "file_extension": ".py",
   "mimetype": "text/x-python",
   "name": "python",
   "nbconvert_exporter": "python",
   "pygments_lexer": "ipython3",
   "version": "3.6.0"
  }
 },
 "nbformat": 4,
 "nbformat_minor": 0
}
