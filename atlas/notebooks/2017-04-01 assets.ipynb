{
 "cells": [
  {
   "cell_type": "code",
   "execution_count": 22,
   "metadata": {
    "collapsed": true
   },
   "outputs": [],
   "source": [
    "%matplotlib inline"
   ]
  },
  {
   "cell_type": "code",
   "execution_count": 23,
   "metadata": {
    "collapsed": true
   },
   "outputs": [],
   "source": [
    "import datetime"
   ]
  },
  {
   "cell_type": "code",
   "execution_count": 24,
   "metadata": {
    "collapsed": true,
    "deletable": true,
    "editable": true
   },
   "outputs": [],
   "source": [
    "import pandas as pd"
   ]
  },
  {
   "cell_type": "code",
   "execution_count": 25,
   "metadata": {
    "collapsed": true
   },
   "outputs": [],
   "source": [
    "councilman = pd.read_csv('../data/sequential_id.csv')\n",
    "secreataries = pd.read_csv('../data/secretary-councilman.csv')\n",
    "\n",
    "# sequencial dos vereadores de são paulo\n",
    "sequencial = councilman.sequential_id.tolist()\n",
    "sequencial.extend(secreataries.sequential_id.tolist())"
   ]
  },
  {
   "cell_type": "code",
   "execution_count": 36,
   "metadata": {
    "collapsed": false,
    "deletable": true,
    "editable": true
   },
   "outputs": [],
   "source": [
    "df = pd.read_csv(\n",
    "    '/home/flavio/Downloads/bem_candidato_2016/bem_candidato_2016_SP.txt',\n",
    "    encoding='iso-8859-1', sep=';', decimal=',', thousands='.', \n",
    "    names=['DATA_GERACAO', 'HORA_GERACAO', 'ANO_ELEICAO', \n",
    "           'DESCRICAO_ELEICAO', 'UF', 'SQ_CAND', 'CD_TIPO_BEM', 'DS_TIPO_BEM', \n",
    "           'DETALHE_BEM', 'VALOR_BEM', 'DATA_ULTIMA_ATU', 'HORA_ULTIMA_ATU'],\n",
    "    usecols=['SQ_CAND', 'DS_TIPO_BEM', 'DETALHE_BEM', 'VALOR_BEM'],\n",
    "    index_col=False\n",
    ")"
   ]
  },
  {
   "cell_type": "code",
   "execution_count": 37,
   "metadata": {
    "collapsed": false,
    "deletable": true,
    "editable": true
   },
   "outputs": [
    {
     "data": {
      "text/html": [
       "<div>\n",
       "<table border=\"1\" class=\"dataframe\">\n",
       "  <thead>\n",
       "    <tr style=\"text-align: right;\">\n",
       "      <th></th>\n",
       "      <th>SQ_CAND</th>\n",
       "      <th>DS_TIPO_BEM</th>\n",
       "      <th>DETALHE_BEM</th>\n",
       "      <th>VALOR_BEM</th>\n",
       "    </tr>\n",
       "  </thead>\n",
       "  <tbody>\n",
       "    <tr>\n",
       "      <th>0</th>\n",
       "      <td>250000004546</td>\n",
       "      <td>Casa</td>\n",
       "      <td>CASA DE MORADA</td>\n",
       "      <td>250000</td>\n",
       "    </tr>\n",
       "    <tr>\n",
       "      <th>1</th>\n",
       "      <td>250000004546</td>\n",
       "      <td>Outros bens móveis</td>\n",
       "      <td>CAMINHONETE MARCA CHEVROLET MODELO S-10 4X4 AN...</td>\n",
       "      <td>95000</td>\n",
       "    </tr>\n",
       "    <tr>\n",
       "      <th>2</th>\n",
       "      <td>250000004546</td>\n",
       "      <td>Outros bens imóveis</td>\n",
       "      <td>PROPRIEDADE AGRÍCOLA DENOMINADA SITIO SÔ CÂNDI...</td>\n",
       "      <td>350000</td>\n",
       "    </tr>\n",
       "    <tr>\n",
       "      <th>3</th>\n",
       "      <td>250000004547</td>\n",
       "      <td>Casa</td>\n",
       "      <td>CASA DE MORADA</td>\n",
       "      <td>224777.2</td>\n",
       "    </tr>\n",
       "    <tr>\n",
       "      <th>4</th>\n",
       "      <td>250000004547</td>\n",
       "      <td>Outros bens móveis</td>\n",
       "      <td>VEICULO MARCA VW MODELO CROSSFOX ANO 2010/2011</td>\n",
       "      <td>51000</td>\n",
       "    </tr>\n",
       "    <tr>\n",
       "      <th>5</th>\n",
       "      <td>250000004548</td>\n",
       "      <td>Casa</td>\n",
       "      <td>IMOVEL RESIDENCIAL</td>\n",
       "      <td>23500</td>\n",
       "    </tr>\n",
       "    <tr>\n",
       "      <th>6</th>\n",
       "      <td>250000004548</td>\n",
       "      <td>Linha telefônica</td>\n",
       "      <td>LINHA TELEFONICA ADQUIRIDA</td>\n",
       "      <td>3428.88</td>\n",
       "    </tr>\n",
       "    <tr>\n",
       "      <th>7</th>\n",
       "      <td>250000004548</td>\n",
       "      <td>Quotas ou quinhões de capital</td>\n",
       "      <td>COTA DE EMPRESA JRB MONTAGENS</td>\n",
       "      <td>57000</td>\n",
       "    </tr>\n",
       "    <tr>\n",
       "      <th>8</th>\n",
       "      <td>250000004548</td>\n",
       "      <td>Quotas ou quinhões de capital</td>\n",
       "      <td>COOPERATIVA RURAL COONAI, ATLTERADO PARA CREDI...</td>\n",
       "      <td>525.68</td>\n",
       "    </tr>\n",
       "    <tr>\n",
       "      <th>9</th>\n",
       "      <td>250000004548</td>\n",
       "      <td>Depósito bancário em conta corrente no País</td>\n",
       "      <td>COOPERATIVA DE CREDITO CREDICOONAI</td>\n",
       "      <td>1378.88</td>\n",
       "    </tr>\n",
       "  </tbody>\n",
       "</table>\n",
       "</div>"
      ],
      "text/plain": [
       "        SQ_CAND                                  DS_TIPO_BEM  \\\n",
       "0  250000004546                                         Casa   \n",
       "1  250000004546                           Outros bens móveis   \n",
       "2  250000004546                          Outros bens imóveis   \n",
       "3  250000004547                                         Casa   \n",
       "4  250000004547                           Outros bens móveis   \n",
       "5  250000004548                                         Casa   \n",
       "6  250000004548                             Linha telefônica   \n",
       "7  250000004548                Quotas ou quinhões de capital   \n",
       "8  250000004548                Quotas ou quinhões de capital   \n",
       "9  250000004548  Depósito bancário em conta corrente no País   \n",
       "\n",
       "                                         DETALHE_BEM VALOR_BEM  \n",
       "0                                     CASA DE MORADA    250000  \n",
       "1  CAMINHONETE MARCA CHEVROLET MODELO S-10 4X4 AN...     95000  \n",
       "2  PROPRIEDADE AGRÍCOLA DENOMINADA SITIO SÔ CÂNDI...    350000  \n",
       "3                                     CASA DE MORADA  224777.2  \n",
       "4     VEICULO MARCA VW MODELO CROSSFOX ANO 2010/2011     51000  \n",
       "5                                 IMOVEL RESIDENCIAL     23500  \n",
       "6                         LINHA TELEFONICA ADQUIRIDA   3428.88  \n",
       "7                      COTA DE EMPRESA JRB MONTAGENS     57000  \n",
       "8  COOPERATIVA RURAL COONAI, ATLTERADO PARA CREDI...    525.68  \n",
       "9                 COOPERATIVA DE CREDITO CREDICOONAI   1378.88  "
      ]
     },
     "execution_count": 37,
     "metadata": {},
     "output_type": "execute_result"
    }
   ],
   "source": [
    "df.head(10)"
   ]
  },
  {
   "cell_type": "code",
   "execution_count": 38,
   "metadata": {
    "collapsed": false
   },
   "outputs": [],
   "source": [
    "df['VALOR_BEM'] = df.VALOR_BEM.astype(float)"
   ]
  },
  {
   "cell_type": "code",
   "execution_count": 39,
   "metadata": {
    "collapsed": true
   },
   "outputs": [],
   "source": [
    "df['election_year'] = 2016"
   ]
  },
  {
   "cell_type": "code",
   "execution_count": 40,
   "metadata": {
    "collapsed": false,
    "deletable": true,
    "editable": true
   },
   "outputs": [],
   "source": [
    "df = df[df['SQ_CAND'].isin(sequencial)]"
   ]
  },
  {
   "cell_type": "code",
   "execution_count": 41,
   "metadata": {
    "collapsed": false,
    "deletable": true,
    "editable": true
   },
   "outputs": [
    {
     "data": {
      "text/html": [
       "<div>\n",
       "<table border=\"1\" class=\"dataframe\">\n",
       "  <thead>\n",
       "    <tr style=\"text-align: right;\">\n",
       "      <th></th>\n",
       "      <th>SQ_CAND</th>\n",
       "      <th>DS_TIPO_BEM</th>\n",
       "      <th>DETALHE_BEM</th>\n",
       "      <th>VALOR_BEM</th>\n",
       "      <th>election_year</th>\n",
       "    </tr>\n",
       "  </thead>\n",
       "  <tbody>\n",
       "    <tr>\n",
       "      <th>761</th>\n",
       "      <td>250000004979</td>\n",
       "      <td>Apartamento</td>\n",
       "      <td>AVENIDA APRIGIO BEZERRA DA SILVA, 1415 - APTO....</td>\n",
       "      <td>200000.0</td>\n",
       "      <td>2016</td>\n",
       "    </tr>\n",
       "  </tbody>\n",
       "</table>\n",
       "</div>"
      ],
      "text/plain": [
       "          SQ_CAND  DS_TIPO_BEM  \\\n",
       "761  250000004979  Apartamento   \n",
       "\n",
       "                                           DETALHE_BEM  VALOR_BEM  \\\n",
       "761  AVENIDA APRIGIO BEZERRA DA SILVA, 1415 - APTO....   200000.0   \n",
       "\n",
       "     election_year  \n",
       "761           2016  "
      ]
     },
     "execution_count": 41,
     "metadata": {},
     "output_type": "execute_result"
    }
   ],
   "source": [
    "df.head(1)"
   ]
  },
  {
   "cell_type": "code",
   "execution_count": 42,
   "metadata": {
    "collapsed": true,
    "deletable": true,
    "editable": true
   },
   "outputs": [],
   "source": [
    "df = df.rename(columns={\n",
    "    'SQ_CAND': 'sequential_id', \n",
    "    'DS_TIPO_BEM': 'kind', \n",
    "    'DETALHE_BEM': 'description',\n",
    "    'VALOR_BEM': 'value', \n",
    "})"
   ]
  },
  {
   "cell_type": "code",
   "execution_count": 43,
   "metadata": {
    "collapsed": false
   },
   "outputs": [],
   "source": [
    "today = datetime.date.today()\n",
    "df.to_csv(f\"../data/{today}-property.csv\", index=False)"
   ]
  },
  {
   "cell_type": "code",
   "execution_count": null,
   "metadata": {
    "collapsed": true
   },
   "outputs": [],
   "source": []
  }
 ],
 "metadata": {
  "kernelspec": {
   "display_name": "Python 3",
   "language": "python",
   "name": "python3"
  },
  "language_info": {
   "codemirror_mode": {
    "name": "ipython",
    "version": 3
   },
   "file_extension": ".py",
   "mimetype": "text/x-python",
   "name": "python",
   "nbconvert_exporter": "python",
   "pygments_lexer": "ipython3",
   "version": "3.6.0"
  }
 },
 "nbformat": 4,
 "nbformat_minor": 2
}
