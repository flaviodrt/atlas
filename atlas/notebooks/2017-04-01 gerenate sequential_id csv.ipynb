{
 "cells": [
  {
   "cell_type": "markdown",
   "metadata": {},
   "source": [
    "Utilizamos esse notebook para criar um arquivo CSV que contém o nome do vereador e o \"sequential_id\"\n",
    "\n",
    "O nome do vereador está igual ao site da câmara de vereadores.\n",
    "\n",
    "Criamos esse arquivo pra poder juntar as informações do perfil do vereador e com as informações disponibilizadas no TSE que são identificadas pelo número sequencial"
   ]
  },
  {
   "cell_type": "code",
   "execution_count": 1,
   "metadata": {
    "collapsed": true
   },
   "outputs": [],
   "source": [
    "import pandas as pd"
   ]
  },
  {
   "cell_type": "code",
   "execution_count": 2,
   "metadata": {
    "collapsed": true
   },
   "outputs": [],
   "source": [
    "seqs = [\n",
    "    [250000011625, \"Abou Anni\"],\n",
    "    [250000019125, \"Adilson Amadeu\"],\n",
    "    [250000004979, \"Adriana Ramalho\"],\n",
    "    [250000022074, \"Alfredinho\"],\n",
    "    [250000004981, \"Aline Cardoso\"],\n",
    "    [250000008293, \"André Santos\"],\n",
    "    [250000022075, \"Antonio Donato\"],\n",
    "    [250000022076, \"Arselino Tatto\"],\n",
    "    [250000008347, \"Atilio Francisco\"],\n",
    "    [250000004982, \"Aurélio Nomura\"],\n",
    "    [250000010990, \"Caio Miranda Carneiro\"],\n",
    "    [250000010991, \"Camilo Cristófaro\"],\n",
    "    [250000022114, \"Celso Jatene\"],\n",
    "    [250000004987, \"Claudinho de Souza\"],\n",
    "    [250000010847, \"Claudio Fonseca\"],\n",
    "    [250000011011, \"Conte Lopes\"],\n",
    "    [250000011013, \"Dalton Silvano\"],\n",
    "    [250000011016, \"David Soares\"],\n",
    "    [250000020825, \"Edir Sales\"],\n",
    "    [250000022081, \"Eduardo Suplicy\"],\n",
    "    [250000004992, \"Eduardo Tuma\"],\n",
    "    [250000004984, \"Fabio Riva\"],\n",
    "    [250000011018, \"Fernando Holiday\"],\n",
    "    [250000020779, \"George Hato\"],\n",
    "    [250000008375, \"Gilberto Nascimento\"],\n",
    "    [250000005006, \"Gilson Barreto\"],\n",
    "    [250000022120, \"Isac Felix\"],\n",
    "    [250000022084, \"Jair Tatto\"],\n",
    "    [250000005798, \"Janaina Lima\"],\n",
    "    [250000004997, \"João Jorge\"],\n",
    "    [250000020837, \"José Police Neto\"],\n",
    "    [250000022086, \"Juliana Cardoso\"],\n",
    "    [250000004989, \"Mario Covas Neto\"],\n",
    "    [250000058381, \"Milton Ferreira\"],\n",
    "    [250000011022, \"Milton Leite\"],\n",
    "    [250000022124, \"Noemi Nonato\"],\n",
    "    [250000010999, \"Ota\"],\n",
    "    [250000019126, \"Paulo Frange\"],\n",
    "    [250000004995, \"Quito Formiga\"],\n",
    "    [250000011622, \"Reginaldo Tripoli\"],\n",
    "    [250000022098, \"Reis\"],\n",
    "    [250000020813, \"Ricardo Nunes\"],\n",
    "    [250000022137, \"Ricardo Teixeira\"],\n",
    "    [250000008366, \"Rinaldi Digilio\"],\n",
    "    [250000010857, \"Rodrigo Gomes\"],\n",
    "    [250000020852, \"Rodrigo Goulart\"],\n",
    "    [250000020854, \"Rute Costa\"],\n",
    "    [250000014885, \"Sâmia Bomfim\"],\n",
    "    [250000011027, \"Sandra Tadeu\"],\n",
    "    [250000022100, \"Senival Moura\"],\n",
    "    [250000008365, \"Souza Santos\"],\n",
    "    [250000022111, \"Toninho Paiva\"],\n",
    "    [250000014868, \"Toninho Vespoli\"],\n",
    "    [250000010863, \"Zé Turin\"],\n",
    "]"
   ]
  },
  {
   "cell_type": "code",
   "execution_count": 6,
   "metadata": {
    "collapsed": false
   },
   "outputs": [],
   "source": [
    "df = pd.DataFrame(seqs, columns=['sequential_id', 'name'])"
   ]
  },
  {
   "cell_type": "code",
   "execution_count": 9,
   "metadata": {
    "collapsed": true
   },
   "outputs": [],
   "source": [
    "df.to_csv(\"../data/sequential_id.csv\", index=False)"
   ]
  },
  {
   "cell_type": "code",
   "execution_count": null,
   "metadata": {
    "collapsed": true
   },
   "outputs": [],
   "source": []
  }
 ],
 "metadata": {
  "kernelspec": {
   "display_name": "Python 3",
   "language": "python",
   "name": "python3"
  },
  "language_info": {
   "codemirror_mode": {
    "name": "ipython",
    "version": 3
   },
   "file_extension": ".py",
   "mimetype": "text/x-python",
   "name": "python",
   "nbconvert_exporter": "python",
   "pygments_lexer": "ipython3",
   "version": "3.6.0"
  }
 },
 "nbformat": 4,
 "nbformat_minor": 2
}
