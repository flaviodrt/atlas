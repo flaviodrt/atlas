{
 "cells": [
  {
   "cell_type": "code",
   "execution_count": 21,
   "metadata": {
    "collapsed": true,
    "deletable": true,
    "editable": true
   },
   "outputs": [],
   "source": [
    "import pandas as pd\n",
    "import datetime"
   ]
  },
  {
   "cell_type": "code",
   "execution_count": 16,
   "metadata": {
    "collapsed": false,
    "deletable": true,
    "editable": true
   },
   "outputs": [
    {
     "name": "stderr",
     "output_type": "stream",
     "text": [
      "/Library/Frameworks/Python.framework/Versions/3.4/lib/python3.4/site-packages/IPython/core/interactiveshell.py:2717: DtypeWarning: Columns (16) have mixed types. Specify dtype option on import or set low_memory=False.\n",
      "  interactivity=interactivity, compiler=compiler, result=result)\n"
     ]
    }
   ],
   "source": [
    "df = pd.read_csv('/Users/guilherme/Downloads/contas16/despesas_candidatos_2016_SP.txt', \n",
    "                 encoding='iso-8859-1', sep=';', decimal=',', thousands='.',\n",
    "                usecols=['Nome da UE', 'Nome candidato', 'Sequencial Candidato','Nome do fornecedor',\n",
    "                         'CPF/CNPJ do fornecedor','Setor econômico do fornecedor','Valor despesa', 'Tipo despesa', 'Descriçao da despesa'])"
   ]
  },
  {
   "cell_type": "code",
   "execution_count": 17,
   "metadata": {
    "collapsed": false,
    "deletable": true,
    "editable": true
   },
   "outputs": [],
   "source": [
    "pd.to_numeric(df['Valor despesa'])\n",
    "df = df.rename(columns={'Valor despesa': 'VALOR'})"
   ]
  },
  {
   "cell_type": "code",
   "execution_count": 18,
   "metadata": {
    "collapsed": true,
    "deletable": true,
    "editable": true
   },
   "outputs": [],
   "source": [
    "councilman = pd.read_csv('../data/sequential_id.csv')\n",
    "secreataries = pd.read_csv('../data/secretary-councilman.csv')\n",
    "\n",
    "# sequencial dos vereadores de são paulo\n",
    "sequencial = councilman.sequential_id.tolist()\n",
    "sequencial.extend(secreataries.sequential_id.tolist())"
   ]
  },
  {
   "cell_type": "code",
   "execution_count": 19,
   "metadata": {
    "collapsed": true,
    "deletable": true,
    "editable": true
   },
   "outputs": [],
   "source": [
    "gastos = df[df['Sequencial Candidato'].isin(sq)]"
   ]
  },
  {
   "cell_type": "code",
   "execution_count": 20,
   "metadata": {
    "collapsed": false,
    "deletable": true,
    "editable": true
   },
   "outputs": [],
   "source": [
    "gastos_campanha = gastos.rename(columns={\n",
    "    'Nome da UE': 'state', \n",
    "    'Nome candidato': 'candidate',\n",
    "    'Sequencial Candidato': 'sequential_id', \n",
    "    'Nome do fornecedor': 'provider', \n",
    "    'CPF/CNPJ do fornecedor': 'CNPJ',\n",
    "    'Setor econômico do doador': 'economic_sector', \n",
    "    'Valor despesa': 'value', \n",
    "    'Tipo despesa': 'kind',\n",
    "    'Descricao da despesa': 'description' \n",
    "})"
   ]
  },
  {
   "cell_type": "code",
   "execution_count": null,
   "metadata": {
    "collapsed": true,
    "deletable": true,
    "editable": true
   },
   "outputs": [],
   "source": [
    "today = datetime.date.today()\n",
    "gastos.to_csv(f\"../data/{today}-donations.csv\", index=False)"
   ]
  }
 ],
 "metadata": {
  "kernelspec": {
   "display_name": "Python 3",
   "language": "python",
   "name": "python3"
  },
  "language_info": {
   "codemirror_mode": {
    "name": "ipython",
    "version": 3
   },
   "file_extension": ".py",
   "mimetype": "text/x-python",
   "name": "python",
   "nbconvert_exporter": "python",
   "pygments_lexer": "ipython3",
   "version": "3.4.3"
  }
 },
 "nbformat": 4,
 "nbformat_minor": 2
}
