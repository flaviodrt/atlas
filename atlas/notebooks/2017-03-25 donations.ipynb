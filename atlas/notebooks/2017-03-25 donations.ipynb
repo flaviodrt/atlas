{
 "cells": [
  {
   "cell_type": "code",
   "execution_count": 1,
   "metadata": {
    "collapsed": true
   },
   "outputs": [],
   "source": [
    "%matplotlib inline"
   ]
  },
  {
   "cell_type": "code",
   "execution_count": 2,
   "metadata": {
    "collapsed": true
   },
   "outputs": [],
   "source": [
    "import pandas as pd"
   ]
  },
  {
   "cell_type": "code",
   "execution_count": 11,
   "metadata": {
    "collapsed": false
   },
   "outputs": [],
   "source": [
    "# TODO: alterar script para baixar dados do site do TSE\n",
    "# http://www.tse.jus.br/hotSites/pesquisas-eleitorais/candidatos_anos/2016.html\n",
    "df = pd.read_csv(\n",
    "    '/home/flavio/Downloads/receitas_candidatos_prestacao_contas_final_2016_SP.txt', \n",
    "    encoding='iso-8859-1', sep=';', decimal=',', thousands='.', \n",
    "    usecols=['Nome da UE', 'Nome candidato', 'Sequencial Candidato', 'Nome do doador',\n",
    "             'Nome do doador (Receita Federal)', 'Setor econômico do doador',\n",
    "             'Valor receita', 'Tipo receita', 'Descricao da receita']\n",
    ")"
   ]
  },
  {
   "cell_type": "code",
   "execution_count": null,
   "metadata": {
    "collapsed": true
   },
   "outputs": [],
   "source": []
  },
  {
   "cell_type": "code",
   "execution_count": 15,
   "metadata": {
    "collapsed": false
   },
   "outputs": [],
   "source": [
    "# sequencial dos vereadores eleitos em são paulo\n",
    "sequencial = [250000011022, 250000020852, 250000022100, 250000020813, 250000010992, 250000020825, 250000022074, \n",
    "              250000022081, 250000005006, 250000022076, 250000004987, 250000022098, 250000004981, 250000022086,\n",
    "              250000022120, 250000020837, 250000004982, 250000011622, 250000022111, 250000010999, 250000004989, \n",
    "              250000022073, 250000058381, 250000008365, 250000004984, 250000022137, 250000008347, 250000020779, \n",
    "              250000014868, 250000011624, 250000022124, 250000011011, 250000022075, 250000004997, 250000005003, \n",
    "              250000008293, 250000004992, 250000022084, 250000004986, 250000011018, 250000005798, 250000022114, \n",
    "              250000019126, 250000019125, 250000010863, 250000010847, 250000011027, 250000020854, 250000010842, \n",
    "              250000010991, 250000008366, 250000004979, 250000008375, 250000011016, 250000014885]"
   ]
  },
  {
   "cell_type": "code",
   "execution_count": 16,
   "metadata": {
    "collapsed": false
   },
   "outputs": [],
   "source": [
    "doacoes = df[df['Sequencial Candidato'].isin(sequencial)]"
   ]
  },
  {
   "cell_type": "code",
   "execution_count": 18,
   "metadata": {
    "collapsed": false
   },
   "outputs": [
    {
     "data": {
      "text/html": [
       "<div>\n",
       "<table border=\"1\" class=\"dataframe\">\n",
       "  <thead>\n",
       "    <tr style=\"text-align: right;\">\n",
       "      <th></th>\n",
       "      <th>Sequencial Candidato</th>\n",
       "      <th>Nome da UE</th>\n",
       "      <th>Nome candidato</th>\n",
       "      <th>Nome do doador</th>\n",
       "      <th>Nome do doador (Receita Federal)</th>\n",
       "      <th>Setor econômico do doador</th>\n",
       "      <th>Valor receita</th>\n",
       "      <th>Tipo receita</th>\n",
       "      <th>Descricao da receita</th>\n",
       "    </tr>\n",
       "  </thead>\n",
       "  <tbody>\n",
       "    <tr>\n",
       "      <th>1868</th>\n",
       "      <td>250000004982</td>\n",
       "      <td>SÃO PAULO</td>\n",
       "      <td>AURÉLIO NOMURA</td>\n",
       "      <td>ELEICAO 2016 JOAO AGRIPINO DA COSTA DORIA JUNI...</td>\n",
       "      <td>ELEICAO 2016 JOAO AGRIPINO DA COSTA DORIA JUNI...</td>\n",
       "      <td>#NULO</td>\n",
       "      <td>3797.47</td>\n",
       "      <td>Recursos de outros candidatos</td>\n",
       "      <td>DOACAO REF. A PRODUCAO DE RADIO E TV PARA CAMP...</td>\n",
       "    </tr>\n",
       "    <tr>\n",
       "      <th>1874</th>\n",
       "      <td>250000004992</td>\n",
       "      <td>SÃO PAULO</td>\n",
       "      <td>EDUARDO TUMA</td>\n",
       "      <td>JOÃO AGRIPINO DA COSTA DORIA JUNIOR PREFEITO</td>\n",
       "      <td>ELEICAO 2016 JOAO AGRIPINO DA COSTA DORIA JUNI...</td>\n",
       "      <td>#NULO</td>\n",
       "      <td>1104.75</td>\n",
       "      <td>Recursos de outros candidatos</td>\n",
       "      <td>CARDS 5X9 CM· COUCHÊ 210 GRS· 4X4 CORES</td>\n",
       "    </tr>\n",
       "  </tbody>\n",
       "</table>\n",
       "</div>"
      ],
      "text/plain": [
       "      Sequencial Candidato Nome da UE  Nome candidato  \\\n",
       "1868          250000004982  SÃO PAULO  AURÉLIO NOMURA   \n",
       "1874          250000004992  SÃO PAULO    EDUARDO TUMA   \n",
       "\n",
       "                                         Nome do doador  \\\n",
       "1868  ELEICAO 2016 JOAO AGRIPINO DA COSTA DORIA JUNI...   \n",
       "1874       JOÃO AGRIPINO DA COSTA DORIA JUNIOR PREFEITO   \n",
       "\n",
       "                       Nome do doador (Receita Federal)  \\\n",
       "1868  ELEICAO 2016 JOAO AGRIPINO DA COSTA DORIA JUNI...   \n",
       "1874  ELEICAO 2016 JOAO AGRIPINO DA COSTA DORIA JUNI...   \n",
       "\n",
       "     Setor econômico do doador  Valor receita                   Tipo receita  \\\n",
       "1868                     #NULO        3797.47  Recursos de outros candidatos   \n",
       "1874                     #NULO        1104.75  Recursos de outros candidatos   \n",
       "\n",
       "                                   Descricao da receita  \n",
       "1868  DOACAO REF. A PRODUCAO DE RADIO E TV PARA CAMP...  \n",
       "1874            CARDS 5X9 CM· COUCHÊ 210 GRS· 4X4 CORES  "
      ]
     },
     "execution_count": 18,
     "metadata": {},
     "output_type": "execute_result"
    }
   ],
   "source": [
    "doacoes.head(2)"
   ]
  },
  {
   "cell_type": "code",
   "execution_count": 21,
   "metadata": {
    "collapsed": false
   },
   "outputs": [],
   "source": [
    "doacoes = doacoes.rename(columns={\n",
    "    'Sequencial Candidato': 'candidate_id', \n",
    "    'Nome da UE': 'state', \n",
    "    'Nome candidato': 'candidate',\n",
    "    'Nome do doador': 'donor', \n",
    "    'Nome do doador (Receita Federal)': 'donor_tax_name',\n",
    "    'Setor econômico do doador': 'economic_sector', \n",
    "    'Valor receita': 'value', \n",
    "    'Tipo receita': 'type',\n",
    "    'Descricao da receita': 'description' \n",
    "})"
   ]
  },
  {
   "cell_type": "code",
   "execution_count": 22,
   "metadata": {
    "collapsed": false
   },
   "outputs": [],
   "source": [
    "doacoes.to_csv(\"../data/donations.csv\")"
   ]
  },
  {
   "cell_type": "code",
   "execution_count": null,
   "metadata": {
    "collapsed": true
   },
   "outputs": [],
   "source": []
  },
  {
   "cell_type": "code",
   "execution_count": null,
   "metadata": {
    "collapsed": true
   },
   "outputs": [],
   "source": []
  }
 ],
 "metadata": {
  "kernelspec": {
   "display_name": "Python 3",
   "language": "python",
   "name": "python3"
  },
  "language_info": {
   "codemirror_mode": {
    "name": "ipython",
    "version": 3
   },
   "file_extension": ".py",
   "mimetype": "text/x-python",
   "name": "python",
   "nbconvert_exporter": "python",
   "pygments_lexer": "ipython3",
   "version": "3.6.0"
  }
 },
 "nbformat": 4,
 "nbformat_minor": 2
}
